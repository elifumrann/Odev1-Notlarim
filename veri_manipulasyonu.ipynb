{
 "cells": [
  {
   "cell_type": "code",
   "execution_count": 1,
   "id": "8848fe6c-4f4d-4047-bf60-713361089cdd",
   "metadata": {},
   "outputs": [
    {
     "name": "stdout",
     "output_type": "stream",
     "text": [
      "a\n"
     ]
    }
   ],
   "source": [
    "print(\"a\")"
   ]
  },
  {
   "cell_type": "markdown",
   "id": "179b76ca-b366-4dae-b21a-9b737f045048",
   "metadata": {},
   "source": [
    "merhaba \n",
    "herhangi başka şeylerde yazılabilir \n",
    "\n",
    " _italik_\n",
    " **kalın**\n",
    " \n",
    " _italik_\n",
    " **kalın**\n",
    " -"
   ]
  },
  {
   "cell_type": "markdown",
   "id": "f3fe3480-b376-4c97-a374-0ff79ffbabf8",
   "metadata": {},
   "source": [
    "#NEDEN NUMPY"
   ]
  },
  {
   "cell_type": "markdown",
   "id": "6201329e-242c-4d07-9e2f-8d61dc2fc1ca",
   "metadata": {},
   "source": [
    "##alt başlıktır"
   ]
  },
  {
   "cell_type": "code",
   "execution_count": 1,
   "id": "b31517a2-259b-46d7-ba66-bcaebbb2af3f",
   "metadata": {},
   "outputs": [
    {
     "name": "stdout",
     "output_type": "stream",
     "text": [
      "[1, 2, 3, 4] [2, 3, 4, 5, 6]\n"
     ]
    }
   ],
   "source": [
    "a=[1,2,3,4]\n",
    "b=[2,3,4,5,6]\n",
    "a\n",
    "b\n",
    "# en sona hangi elemanı yazarsak onun içindeki elemanlar gelir\n",
    "print(a,b)"
   ]
  },
  {
   "cell_type": "code",
   "execution_count": 22,
   "id": "5fd10712-648b-4c97-9929-a695fdaa2848",
   "metadata": {},
   "outputs": [
    {
     "data": {
      "text/plain": [
       "[2, 6, 12, 20]"
      ]
     },
     "execution_count": 22,
     "metadata": {},
     "output_type": "execute_result"
    }
   ],
   "source": [
    "ab=[]\n",
    "\n",
    "for i in range(0,len(a)):\n",
    "    ab.append(a[i]*b[i])\n",
    "ab"
   ]
  },
  {
   "cell_type": "code",
   "execution_count": 1,
   "id": "acdd3dbc-4c85-4e5c-9231-0411be3227d4",
   "metadata": {},
   "outputs": [],
   "source": [
    "import numpy as np"
   ]
  },
  {
   "cell_type": "code",
   "execution_count": 3,
   "id": "8c2e224f-720f-43bb-a4f4-84f2f362250d",
   "metadata": {},
   "outputs": [
    {
     "data": {
      "text/plain": [
       "4"
      ]
     },
     "execution_count": 3,
     "metadata": {},
     "output_type": "execute_result"
    }
   ],
   "source": [
    "a=np.array([1,2,3,4])\n",
    "b=np.array([2,3,4,5])\n",
    "np.nanmax(a)"
   ]
  },
  {
   "cell_type": "code",
   "execution_count": 25,
   "id": "36eb121c-7797-4583-9c3c-0694b5e6346f",
   "metadata": {},
   "outputs": [
    {
     "data": {
      "text/plain": [
       "array([ 2,  6, 12, 20])"
      ]
     },
     "execution_count": 25,
     "metadata": {},
     "output_type": "execute_result"
    }
   ],
   "source": [
    "a*b"
   ]
  },
  {
   "cell_type": "code",
   "execution_count": 26,
   "id": "6d5e3de5-e949-4837-9e0b-77e17e334822",
   "metadata": {},
   "outputs": [
    {
     "data": {
      "text/plain": [
       "array([0.5       , 0.66666667, 0.75      , 0.8       ])"
      ]
     },
     "execution_count": 26,
     "metadata": {},
     "output_type": "execute_result"
    }
   ],
   "source": [
    "a/b"
   ]
  },
  {
   "cell_type": "code",
   "execution_count": 27,
   "id": "e97873bd-9832-42f2-b3b2-6158e99fd91d",
   "metadata": {},
   "outputs": [],
   "source": [
    "#numpy arrayi oluşturmak"
   ]
  },
  {
   "cell_type": "code",
   "execution_count": 2,
   "id": "29a609f9-aff7-48a0-b1c2-25d3a3386e45",
   "metadata": {},
   "outputs": [],
   "source": [
    "import numpy as np "
   ]
  },
  {
   "cell_type": "code",
   "execution_count": 3,
   "id": "63ffc920-6afa-46e6-9afb-53ea49f486ea",
   "metadata": {},
   "outputs": [],
   "source": [
    "a=np.array([1,2,3,4])"
   ]
  },
  {
   "cell_type": "code",
   "execution_count": 4,
   "id": "35e3e6fd-07ec-45cb-a7f7-a23bf9ce3a02",
   "metadata": {},
   "outputs": [
    {
     "data": {
      "text/plain": [
       "numpy.ndarray"
      ]
     },
     "execution_count": 4,
     "metadata": {},
     "output_type": "execute_result"
    }
   ],
   "source": [
    "type(a)"
   ]
  },
  {
   "cell_type": "code",
   "execution_count": 6,
   "id": "67582fee-50ff-4349-9eb2-1cac69835977",
   "metadata": {},
   "outputs": [
    {
     "data": {
      "text/plain": [
       "array([3.14, 2.  , 4.  , 5.18], dtype=float32)"
      ]
     },
     "execution_count": 6,
     "metadata": {},
     "output_type": "execute_result"
    }
   ],
   "source": [
    "np.array([3.14,2,4,5.18],dtype=\"float32\")"
   ]
  },
  {
   "cell_type": "code",
   "execution_count": 40,
   "id": "099d543a-9ef4-4b51-ae1b-765804c992aa",
   "metadata": {},
   "outputs": [
    {
     "data": {
      "text/plain": [
       "array([3, 2, 4, 5])"
      ]
     },
     "execution_count": 40,
     "metadata": {},
     "output_type": "execute_result"
    }
   ],
   "source": [
    "np.array([3.14,2,4,5.18],dtype=\"int\")"
   ]
  },
  {
   "cell_type": "code",
   "execution_count": 41,
   "id": "fd6df05a-79d5-4a80-8514-e5b08db96cd2",
   "metadata": {},
   "outputs": [],
   "source": [
    "#sıfırdan array oluşturma"
   ]
  },
  {
   "cell_type": "code",
   "execution_count": 4,
   "id": "2e232b6d-9eba-40a4-8fad-c45785579a2b",
   "metadata": {},
   "outputs": [
    {
     "data": {
      "text/plain": [
       "array([0, 0, 0, 0, 0, 0, 0, 0, 0, 0])"
      ]
     },
     "execution_count": 4,
     "metadata": {},
     "output_type": "execute_result"
    }
   ],
   "source": [
    "np.zeros(10,dtype=\"int\")"
   ]
  },
  {
   "cell_type": "code",
   "execution_count": 7,
   "id": "04283db0-4cd7-49fb-959c-51b50464bb50",
   "metadata": {},
   "outputs": [
    {
     "data": {
      "text/plain": [
       "array([1, 1, 1, 1, 1, 1, 1, 1, 1, 1])"
      ]
     },
     "execution_count": 7,
     "metadata": {},
     "output_type": "execute_result"
    }
   ],
   "source": [
    "np.ones(10, dtype=\"int\")\n"
   ]
  },
  {
   "cell_type": "code",
   "execution_count": 8,
   "id": "2e4204c5-0c63-4bd6-b837-2f92854ce3fb",
   "metadata": {},
   "outputs": [
    {
     "data": {
      "text/plain": [
       "array([[2., 2., 2., 2., 2.],\n",
       "       [2., 2., 2., 2., 2.],\n",
       "       [2., 2., 2., 2., 2.]], dtype=float32)"
      ]
     },
     "execution_count": 8,
     "metadata": {},
     "output_type": "execute_result"
    }
   ],
   "source": [
    "np.full((3,5),2,dtype=\"float32\")"
   ]
  },
  {
   "cell_type": "code",
   "execution_count": 10,
   "id": "cd4611d6-6dc0-4449-8ddb-5276fce3fc20",
   "metadata": {},
   "outputs": [
    {
     "data": {
      "text/plain": [
       "array([[2, 2, 2, 2, 2],\n",
       "       [2, 2, 2, 2, 2],\n",
       "       [2, 2, 2, 2, 2]])"
      ]
     },
     "execution_count": 10,
     "metadata": {},
     "output_type": "execute_result"
    }
   ],
   "source": [
    "np.full((3,5),2,dtype=\"int\")"
   ]
  },
  {
   "cell_type": "code",
   "execution_count": 9,
   "id": "1e55335b-0069-412e-85a6-4b8a6807d876",
   "metadata": {},
   "outputs": [
    {
     "data": {
      "text/plain": [
       "array([ 0,  3,  6,  9, 12, 15, 18, 21, 24, 27, 30])"
      ]
     },
     "execution_count": 9,
     "metadata": {},
     "output_type": "execute_result"
    }
   ],
   "source": [
    "np.arange(0,31,3)"
   ]
  },
  {
   "cell_type": "code",
   "execution_count": 17,
   "id": "77d56932-cc8d-4447-9de4-fccd1eae773b",
   "metadata": {},
   "outputs": [
    {
     "data": {
      "text/plain": [
       "array([ 3.,  5.,  7.,  9., 11., 13., 15., 17., 19.], dtype=float32)"
      ]
     },
     "execution_count": 17,
     "metadata": {},
     "output_type": "execute_result"
    }
   ],
   "source": [
    "np.arange(3,20,2,dtype=\"float32\")"
   ]
  },
  {
   "cell_type": "code",
   "execution_count": 51,
   "id": "233f9d7d-422f-4d71-8f8b-3021173e44e2",
   "metadata": {},
   "outputs": [
    {
     "data": {
      "text/plain": [
       "array([0.        , 0.11111111, 0.22222222, 0.33333333, 0.44444444,\n",
       "       0.55555556, 0.66666667, 0.77777778, 0.88888889, 1.        ])"
      ]
     },
     "execution_count": 51,
     "metadata": {},
     "output_type": "execute_result"
    }
   ],
   "source": [
    "np.linspace(0,1,10)"
   ]
  },
  {
   "cell_type": "code",
   "execution_count": 53,
   "id": "d9f4cf03-1f4e-42a5-b66e-5d59d88d73fa",
   "metadata": {},
   "outputs": [
    {
     "data": {
      "text/plain": [
       "array([[17.01364526,  9.48514664,  7.22557776,  7.36110386],\n",
       "       [ 5.96350357, 12.84417606, 12.32415928,  7.1825733 ],\n",
       "       [10.2494541 , 12.40384299,  7.11565139,  3.4389514 ]])"
      ]
     },
     "execution_count": 53,
     "metadata": {},
     "output_type": "execute_result"
    }
   ],
   "source": [
    "np.random.normal(10,4,(3,4))#ortalaması=4 standart sapması=2"
   ]
  },
  {
   "cell_type": "code",
   "execution_count": 33,
   "id": "db6386b0-cfd6-4bdc-9b02-cf4ad0fb7818",
   "metadata": {},
   "outputs": [
    {
     "data": {
      "text/plain": [
       "array([[1., 1., 1., 1., 1., 1., 1., 1., 1., 1.],\n",
       "       [1., 1., 1., 1., 1., 1., 1., 1., 1., 1.]], dtype=float32)"
      ]
     },
     "execution_count": 33,
     "metadata": {},
     "output_type": "execute_result"
    }
   ],
   "source": [
    "np.full((2,10),1,dtype=\"float32\")"
   ]
  },
  {
   "cell_type": "code",
   "execution_count": 55,
   "id": "9b620463-7a3e-44e2-b619-454aa4826c5f",
   "metadata": {},
   "outputs": [
    {
     "data": {
      "text/plain": [
       "array([[25,  6, 74],\n",
       "       [95, 15, 28],\n",
       "       [39, 90, 70]])"
      ]
     },
     "execution_count": 55,
     "metadata": {},
     "output_type": "execute_result"
    }
   ],
   "source": [
    "np.random.randint(0,100,(3,3))"
   ]
  },
  {
   "cell_type": "code",
   "execution_count": 1,
   "id": "9f032de3-9970-4bce-8ed4-0d6629dffb85",
   "metadata": {},
   "outputs": [],
   "source": [
    "import numpy as np\n"
   ]
  },
  {
   "cell_type": "code",
   "execution_count": 2,
   "id": "43acc841-6b3c-461b-8514-1c5525424745",
   "metadata": {},
   "outputs": [
    {
     "data": {
      "text/plain": [
       "array([[13, 14, 16, 18, 19],\n",
       "       [11, 12, 16, 18, 19],\n",
       "       [10, 10, 11, 11, 18]])"
      ]
     },
     "execution_count": 2,
     "metadata": {},
     "output_type": "execute_result"
    }
   ],
   "source": [
    "a=np.random.randint(10,20,(3,5))\n",
    "a.sort()\n",
    "a"
   ]
  },
  {
   "cell_type": "code",
   "execution_count": 3,
   "id": "32ca95e6-e26e-43ef-9bb1-dcab051486a9",
   "metadata": {},
   "outputs": [
    {
     "data": {
      "text/plain": [
       "array([[12.78521501, 21.54780658],\n",
       "       [ 8.56487204,  5.99945867]])"
      ]
     },
     "execution_count": 3,
     "metadata": {},
     "output_type": "execute_result"
    }
   ],
   "source": [
    "np.random.normal(10,5,(2,2))"
   ]
  },
  {
   "cell_type": "code",
   "execution_count": 4,
   "id": "d5fbbd6c-743f-4608-a4d1-479de36c882f",
   "metadata": {},
   "outputs": [
    {
     "data": {
      "text/plain": [
       "array([0.        , 0.11111111, 0.22222222, 0.33333333, 0.44444444,\n",
       "       0.55555556, 0.66666667, 0.77777778, 0.88888889, 1.        ])"
      ]
     },
     "execution_count": 4,
     "metadata": {},
     "output_type": "execute_result"
    }
   ],
   "source": [
    "np.linspace(0,1,10)"
   ]
  },
  {
   "cell_type": "markdown",
   "id": "99ecf92b-b651-4c59-97fe-e93328145a41",
   "metadata": {},
   "source": [
    "* **ndim**\n",
    "* **shape**\n",
    "* **size**\n",
    "* **dtype**"
   ]
  },
  {
   "cell_type": "code",
   "execution_count": 8,
   "id": "6fdd05c6-1b41-422b-ab3b-abef804a3bf0",
   "metadata": {},
   "outputs": [
    {
     "data": {
      "text/plain": [
       "array([ 7,  7,  8,  8,  8,  9,  9, 10, 10, 11, 11, 12, 12, 12, 12, 13, 14,\n",
       "       14, 15, 15, 16, 16, 18, 18, 19])"
      ]
     },
     "execution_count": 8,
     "metadata": {},
     "output_type": "execute_result"
    }
   ],
   "source": [
    "a=np.random.randint(5,20,size=25)\n",
    "#a=np.random.randint(2,10,(3,5))\n",
    "a.sort()\n",
    "a\n",
    "#eğer başlangıç değeri girmediysek 0 olarak algılar ama başlangıç değeri girersek o değerden başlatır."
   ]
  },
  {
   "cell_type": "code",
   "execution_count": 9,
   "id": "6b555c55-318a-4b4b-8923-82f3a125a561",
   "metadata": {},
   "outputs": [
    {
     "data": {
      "text/plain": [
       "1"
      ]
     },
     "execution_count": 9,
     "metadata": {},
     "output_type": "execute_result"
    }
   ],
   "source": [
    "a.ndim#boyutu"
   ]
  },
  {
   "cell_type": "code",
   "execution_count": 10,
   "id": "e042f480-946e-4da5-9b05-d2b5556aa057",
   "metadata": {},
   "outputs": [
    {
     "data": {
      "text/plain": [
       "(25,)"
      ]
     },
     "execution_count": 10,
     "metadata": {},
     "output_type": "execute_result"
    }
   ],
   "source": [
    " a.shape"
   ]
  },
  {
   "cell_type": "code",
   "execution_count": 79,
   "id": "624e079a-1bdf-49f2-bf5a-2e770eb8d582",
   "metadata": {},
   "outputs": [
    {
     "data": {
      "text/plain": [
       "25"
      ]
     },
     "execution_count": 79,
     "metadata": {},
     "output_type": "execute_result"
    }
   ],
   "source": [
    "a.size#kaç sayı girmişsek onu döndürür"
   ]
  },
  {
   "cell_type": "code",
   "execution_count": 80,
   "id": "5e093f80-3e08-4a6f-8940-96eb01cd803c",
   "metadata": {},
   "outputs": [
    {
     "data": {
      "text/plain": [
       "dtype('int32')"
      ]
     },
     "execution_count": 80,
     "metadata": {},
     "output_type": "execute_result"
    }
   ],
   "source": [
    "a.dtype"
   ]
  },
  {
   "cell_type": "code",
   "execution_count": 74,
   "id": "a5a2f012-a347-4d2e-8e7b-2314848a418b",
   "metadata": {},
   "outputs": [],
   "source": [
    "b=np.random.randint(10,size=(2,3))"
   ]
  },
  {
   "cell_type": "code",
   "execution_count": 75,
   "id": "78f52761-ad69-47af-b4cd-d2147964f3b9",
   "metadata": {},
   "outputs": [
    {
     "data": {
      "text/plain": [
       "array([[7, 2, 6],\n",
       "       [1, 9, 5]])"
      ]
     },
     "execution_count": 75,
     "metadata": {},
     "output_type": "execute_result"
    }
   ],
   "source": [
    "b"
   ]
  },
  {
   "cell_type": "code",
   "execution_count": 69,
   "id": "41f461a8-bcc0-4b3f-b527-d86151a3701d",
   "metadata": {},
   "outputs": [
    {
     "data": {
      "text/plain": [
       "2"
      ]
     },
     "execution_count": 69,
     "metadata": {},
     "output_type": "execute_result"
    }
   ],
   "source": [
    "b.ndim"
   ]
  },
  {
   "cell_type": "code",
   "execution_count": 70,
   "id": "c26acfe1-37ce-478a-909a-a1b3d11770d5",
   "metadata": {},
   "outputs": [
    {
     "data": {
      "text/plain": [
       "(2, 3)"
      ]
     },
     "execution_count": 70,
     "metadata": {},
     "output_type": "execute_result"
    }
   ],
   "source": [
    "b.shape"
   ]
  },
  {
   "cell_type": "code",
   "execution_count": 71,
   "id": "f1f2a203-eb00-446c-aecc-0e5554baade5",
   "metadata": {},
   "outputs": [
    {
     "data": {
      "text/plain": [
       "6"
      ]
     },
     "execution_count": 71,
     "metadata": {},
     "output_type": "execute_result"
    }
   ],
   "source": [
    "b.size"
   ]
  },
  {
   "cell_type": "code",
   "execution_count": 72,
   "id": "6d4abe8e-0d91-4a09-a137-31fb9ae2214c",
   "metadata": {},
   "outputs": [
    {
     "data": {
      "text/plain": [
       "dtype('int32')"
      ]
     },
     "execution_count": 72,
     "metadata": {},
     "output_type": "execute_result"
    }
   ],
   "source": [
    "b.dtype"
   ]
  },
  {
   "cell_type": "markdown",
   "id": "cee87afd-b5d6-4edb-9ed5-86397a906ee1",
   "metadata": {},
   "source": [
    "#__Reshaping(yeniden sekillendirme)__\n",
    "-"
   ]
  },
  {
   "cell_type": "code",
   "execution_count": 110,
   "id": "8978e3a3-c801-4d11-88c0-42a04bd147c7",
   "metadata": {},
   "outputs": [
    {
     "data": {
      "text/plain": [
       "array([[ 1,  3,  5],\n",
       "       [ 7,  9, 11],\n",
       "       [13, 15, 17]])"
      ]
     },
     "execution_count": 110,
     "metadata": {},
     "output_type": "execute_result"
    }
   ],
   "source": [
    "np.arange(1,19,2).reshape((3,3))\n",
    "#__burda önemi olan kaç tane sayı girmişsek ona göre boyut ayarlamak__"
   ]
  },
  {
   "cell_type": "code",
   "execution_count": 111,
   "id": "61dc6e6a-d874-49db-b7b3-5b52a5e5e5bd",
   "metadata": {},
   "outputs": [
    {
     "data": {
      "text/plain": [
       "array([[1, 2, 3],\n",
       "       [4, 5, 6],\n",
       "       [7, 8, 9]])"
      ]
     },
     "execution_count": 111,
     "metadata": {},
     "output_type": "execute_result"
    }
   ],
   "source": [
    "a=np.arange(1,10).reshape(3,3)\n",
    "\n",
    "a"
   ]
  },
  {
   "cell_type": "code",
   "execution_count": 112,
   "id": "65691b41",
   "metadata": {},
   "outputs": [
    {
     "data": {
      "text/plain": [
       "2"
      ]
     },
     "execution_count": 112,
     "metadata": {},
     "output_type": "execute_result"
    }
   ],
   "source": [
    "a.ndim"
   ]
  },
  {
   "cell_type": "code",
   "execution_count": 114,
   "id": "a957c364-0aa6-4f15-a9a2-be14cc3a1db3",
   "metadata": {},
   "outputs": [
    {
     "data": {
      "text/plain": [
       "array([[1, 2, 3, 4, 5, 6, 7, 8, 9]])"
      ]
     },
     "execution_count": 114,
     "metadata": {},
     "output_type": "execute_result"
    }
   ],
   "source": [
    "b=a.reshape(1,9)\n",
    "b"
   ]
  },
  {
   "cell_type": "code",
   "execution_count": 109,
   "id": "88c37e0c-1218-4a65-a588-0f7ef8165af9",
   "metadata": {},
   "outputs": [
    {
     "data": {
      "text/plain": [
       "2"
      ]
     },
     "execution_count": 109,
     "metadata": {},
     "output_type": "execute_result"
    }
   ],
   "source": [
    "b.ndim"
   ]
  },
  {
   "cell_type": "markdown",
   "id": "c20f652e-bbbb-4930-a6e9-906230332a07",
   "metadata": {},
   "source": [
    "__ARRAY BİRLEŞTİRME(CONCATENATİON)__"
   ]
  },
  {
   "cell_type": "code",
   "execution_count": 11,
   "id": "e0b7be9f-61f3-4e7d-b17a-5e5295de36d0",
   "metadata": {},
   "outputs": [],
   "source": [
    "\n",
    "import numpy as np\n",
    "x=np.array([1,2,3])\n",
    "y=np.array([4,5,6,7])"
   ]
  },
  {
   "cell_type": "code",
   "execution_count": 12,
   "id": "6e87c9ef-4ffd-4f67-a075-c454a2026fdc",
   "metadata": {},
   "outputs": [
    {
     "data": {
      "text/plain": [
       "array([1, 2, 3, 4, 5, 6, 7])"
      ]
     },
     "execution_count": 12,
     "metadata": {},
     "output_type": "execute_result"
    }
   ],
   "source": [
    "a=np.concatenate([x,y])\n",
    "a"
   ]
  },
  {
   "cell_type": "code",
   "execution_count": 120,
   "id": "c7dbda0e-392b-4c5c-966b-3a342f5f8d88",
   "metadata": {},
   "outputs": [
    {
     "data": {
      "text/plain": [
       "1"
      ]
     },
     "execution_count": 120,
     "metadata": {},
     "output_type": "execute_result"
    }
   ],
   "source": [
    "a.ndim"
   ]
  },
  {
   "cell_type": "code",
   "execution_count": 121,
   "id": "d8f7ce62-abfe-4973-ab14-2f0e306ac6e1",
   "metadata": {},
   "outputs": [],
   "source": [
    "z=np.array([7,8,9])"
   ]
  },
  {
   "cell_type": "code",
   "execution_count": 122,
   "id": "abd005f2-c940-4e90-a46f-e605cdf02e03",
   "metadata": {},
   "outputs": [
    {
     "data": {
      "text/plain": [
       "array([1, 2, 3, 4, 5, 6, 7, 7, 8, 9])"
      ]
     },
     "execution_count": 122,
     "metadata": {},
     "output_type": "execute_result"
    }
   ],
   "source": [
    "np.concatenate([x,y,z])"
   ]
  },
  {
   "cell_type": "markdown",
   "id": "0b8c66de-e1d4-44b0-9a08-28fb5d555cbe",
   "metadata": {},
   "source": [
    "##**iki boyut**"
   ]
  },
  {
   "cell_type": "code",
   "execution_count": 131,
   "id": "5754062b-9eb5-4709-8552-f583ca072397",
   "metadata": {},
   "outputs": [],
   "source": [
    "a=np.array([[1,2,3],\n",
    "            [4,5,6]])"
   ]
  },
  {
   "cell_type": "code",
   "execution_count": 132,
   "id": "f5868678-e732-4c9f-bba4-9a09bc598c2b",
   "metadata": {},
   "outputs": [
    {
     "data": {
      "text/plain": [
       "array([[1, 2, 3],\n",
       "       [4, 5, 6]])"
      ]
     },
     "execution_count": 132,
     "metadata": {},
     "output_type": "execute_result"
    }
   ],
   "source": [
    "a"
   ]
  },
  {
   "cell_type": "code",
   "execution_count": 133,
   "id": "6d89ea12-2743-438c-ae02-f87f745e7990",
   "metadata": {},
   "outputs": [
    {
     "data": {
      "text/plain": [
       "array([[10, 11, 12],\n",
       "       [13, 14, 15]])"
      ]
     },
     "execution_count": 133,
     "metadata": {},
     "output_type": "execute_result"
    }
   ],
   "source": [
    "b=np.arange(10,16).reshape(2,3)\n",
    "b"
   ]
  },
  {
   "cell_type": "code",
   "execution_count": 134,
   "id": "b927f88e-7760-41b0-8416-f5a5b8db7de9",
   "metadata": {},
   "outputs": [
    {
     "data": {
      "text/plain": [
       "array([[ 1,  2,  3],\n",
       "       [ 4,  5,  6],\n",
       "       [10, 11, 12],\n",
       "       [13, 14, 15]])"
      ]
     },
     "execution_count": 134,
     "metadata": {},
     "output_type": "execute_result"
    }
   ],
   "source": [
    "np.concatenate([a,b])"
   ]
  },
  {
   "cell_type": "code",
   "execution_count": 135,
   "id": "723752f4-614e-4d0a-82cf-77798dd1a4b3",
   "metadata": {},
   "outputs": [
    {
     "data": {
      "text/plain": [
       "array([[ 1,  2,  3],\n",
       "       [ 4,  5,  6],\n",
       "       [10, 11, 12],\n",
       "       [13, 14, 15]])"
      ]
     },
     "execution_count": 135,
     "metadata": {},
     "output_type": "execute_result"
    }
   ],
   "source": [
    "np.concatenate([a,b],axis=0)#satır bazlı birleştirme yaptı"
   ]
  },
  {
   "cell_type": "code",
   "execution_count": 136,
   "id": "c8e34d2e-6b06-4708-ad16-0e45b14ae300",
   "metadata": {},
   "outputs": [
    {
     "data": {
      "text/plain": [
       "array([[ 1,  2,  3, 10, 11, 12],\n",
       "       [ 4,  5,  6, 13, 14, 15]])"
      ]
     },
     "execution_count": 136,
     "metadata": {},
     "output_type": "execute_result"
    }
   ],
   "source": [
    "np.concatenate([a,b],axis=1)#sutun bazlı birleştirme yaptı"
   ]
  },
  {
   "cell_type": "markdown",
   "id": "9a3d1ce5-ac3b-4af6-a27b-9970d0b28b05",
   "metadata": {},
   "source": [
    "**ARRAY AYIRMA(SPLİTTİNG)**"
   ]
  },
  {
   "cell_type": "code",
   "execution_count": 106,
   "id": "0ec337ca-da9e-4e55-848a-f8e4a18b9c7b",
   "metadata": {},
   "outputs": [],
   "source": [
    "x=np.array([1,2,3,99,99,3,2,1])"
   ]
  },
  {
   "cell_type": "code",
   "execution_count": 116,
   "id": "854f714f-40be-4e79-a754-c7ce2470c159",
   "metadata": {},
   "outputs": [
    {
     "data": {
      "text/plain": [
       "[array([1, 2, 3]), array([99]), array([99,  3,  2,  1])]"
      ]
     },
     "execution_count": 116,
     "metadata": {},
     "output_type": "execute_result"
    }
   ],
   "source": [
    "np.split(x,[3,4])"
   ]
  },
  {
   "cell_type": "code",
   "execution_count": 112,
   "id": "17605c0e-f772-41a6-a2b2-c7295734bdc7",
   "metadata": {},
   "outputs": [],
   "source": [
    "a,b,c=np.split(x,[3,4])"
   ]
  },
  {
   "cell_type": "code",
   "execution_count": 113,
   "id": "83407119-ea42-4937-8a0e-4339040b5e0a",
   "metadata": {},
   "outputs": [
    {
     "data": {
      "text/plain": [
       "(array([1, 2, 3]), array([99]), array([99,  3,  2,  1]))"
      ]
     },
     "execution_count": 113,
     "metadata": {},
     "output_type": "execute_result"
    }
   ],
   "source": [
    "a,b,c"
   ]
  },
  {
   "cell_type": "code",
   "execution_count": 114,
   "id": "aed64224-e186-4eef-a672-0487fcb6346a",
   "metadata": {},
   "outputs": [
    {
     "data": {
      "text/plain": [
       "array([99])"
      ]
     },
     "execution_count": 114,
     "metadata": {},
     "output_type": "execute_result"
    }
   ],
   "source": [
    "b"
   ]
  },
  {
   "cell_type": "code",
   "execution_count": 117,
   "id": "a92fc140-f5c5-471e-aaac-7e0c912eaa3c",
   "metadata": {},
   "outputs": [],
   "source": [
    "##iki boyutlu ayrıma"
   ]
  },
  {
   "cell_type": "code",
   "execution_count": 119,
   "id": "596f5b29-325b-4ebd-a4d6-ed444efbdbe5",
   "metadata": {},
   "outputs": [],
   "source": [
    "m=np.arange(16).reshape(4,4)"
   ]
  },
  {
   "cell_type": "code",
   "execution_count": 120,
   "id": "5302e67c-2dd8-4cf1-bf9d-90b3b4316125",
   "metadata": {},
   "outputs": [
    {
     "data": {
      "text/plain": [
       "array([[ 0,  1,  2,  3],\n",
       "       [ 4,  5,  6,  7],\n",
       "       [ 8,  9, 10, 11],\n",
       "       [12, 13, 14, 15]])"
      ]
     },
     "execution_count": 120,
     "metadata": {},
     "output_type": "execute_result"
    }
   ],
   "source": [
    "m"
   ]
  },
  {
   "cell_type": "code",
   "execution_count": 121,
   "id": "ecc3de3d-2d96-40f8-aeca-c6f0593fec77",
   "metadata": {},
   "outputs": [
    {
     "data": {
      "text/plain": [
       "[array([[0, 1, 2, 3],\n",
       "        [4, 5, 6, 7]]),\n",
       " array([[ 8,  9, 10, 11],\n",
       "        [12, 13, 14, 15]])]"
      ]
     },
     "execution_count": 121,
     "metadata": {},
     "output_type": "execute_result"
    }
   ],
   "source": [
    "np.vsplit(m,[2])"
   ]
  },
  {
   "cell_type": "code",
   "execution_count": 122,
   "id": "c66ed8b4-c79c-4bd8-b874-1c9d0f0dbf88",
   "metadata": {},
   "outputs": [],
   "source": [
    "ust,alt=np.vsplit(m,[2])"
   ]
  },
  {
   "cell_type": "code",
   "execution_count": 123,
   "id": "bd36c7df-027d-461c-b8f0-aae47591c8a5",
   "metadata": {},
   "outputs": [
    {
     "data": {
      "text/plain": [
       "array([[0, 1, 2, 3],\n",
       "       [4, 5, 6, 7]])"
      ]
     },
     "execution_count": 123,
     "metadata": {},
     "output_type": "execute_result"
    }
   ],
   "source": [
    "ust"
   ]
  },
  {
   "cell_type": "code",
   "execution_count": 124,
   "id": "e880ac1b-b0a5-4a54-bcaa-769b7c8c26d9",
   "metadata": {},
   "outputs": [
    {
     "data": {
      "text/plain": [
       "array([[ 8,  9, 10, 11],\n",
       "       [12, 13, 14, 15]])"
      ]
     },
     "execution_count": 124,
     "metadata": {},
     "output_type": "execute_result"
    }
   ],
   "source": [
    "alt"
   ]
  },
  {
   "cell_type": "code",
   "execution_count": 125,
   "id": "a4967069-03fe-4ce6-9458-930188fde5c3",
   "metadata": {},
   "outputs": [
    {
     "data": {
      "text/plain": [
       "array([[ 0,  1,  2,  3],\n",
       "       [ 4,  5,  6,  7],\n",
       "       [ 8,  9, 10, 11],\n",
       "       [12, 13, 14, 15]])"
      ]
     },
     "execution_count": 125,
     "metadata": {},
     "output_type": "execute_result"
    }
   ],
   "source": [
    "m"
   ]
  },
  {
   "cell_type": "code",
   "execution_count": 127,
   "id": "ae6c486d-099e-4daa-8608-27efaac35fdf",
   "metadata": {},
   "outputs": [
    {
     "data": {
      "text/plain": [
       "[array([[ 0,  1],\n",
       "        [ 4,  5],\n",
       "        [ 8,  9],\n",
       "        [12, 13]]),\n",
       " array([[ 2,  3],\n",
       "        [ 6,  7],\n",
       "        [10, 11],\n",
       "        [14, 15]])]"
      ]
     },
     "execution_count": 127,
     "metadata": {},
     "output_type": "execute_result"
    }
   ],
   "source": [
    "np.hsplit(m,[2])"
   ]
  },
  {
   "cell_type": "code",
   "execution_count": 128,
   "id": "2898f017-8362-4810-8e29-e6676c9e2067",
   "metadata": {},
   "outputs": [],
   "source": [
    "sag,sol=np.hsplit(m,[2])"
   ]
  },
  {
   "cell_type": "code",
   "execution_count": 132,
   "id": "f330eb2a",
   "metadata": {},
   "outputs": [
    {
     "data": {
      "text/plain": [
       "array([[ 0,  1],\n",
       "       [ 4,  5],\n",
       "       [ 8,  9],\n",
       "       [12, 13]])"
      ]
     },
     "execution_count": 132,
     "metadata": {},
     "output_type": "execute_result"
    }
   ],
   "source": [
    "sag"
   ]
  },
  {
   "cell_type": "code",
   "execution_count": 133,
   "id": "6dde3b76-7d15-42cf-a030-0fe33456a7f7",
   "metadata": {},
   "outputs": [
    {
     "data": {
      "text/plain": [
       "array([[ 2,  3],\n",
       "       [ 6,  7],\n",
       "       [10, 11],\n",
       "       [14, 15]])"
      ]
     },
     "execution_count": 133,
     "metadata": {},
     "output_type": "execute_result"
    }
   ],
   "source": [
    "sol"
   ]
  },
  {
   "cell_type": "markdown",
   "id": "eba6a232-fdf6-490d-9324-6a7fccc04af7",
   "metadata": {},
   "source": [
    "# **SIRALAMA(SORTİNG)**\n"
   ]
  },
  {
   "cell_type": "code",
   "execution_count": 3,
   "id": "b3c108ce",
   "metadata": {},
   "outputs": [],
   "source": [
    "v=np.array([1,7,85,2,56,2])"
   ]
  },
  {
   "cell_type": "code",
   "execution_count": 4,
   "id": "1f2c0ec8-409d-4916-ae65-564cc40802ff",
   "metadata": {},
   "outputs": [
    {
     "data": {
      "text/plain": [
       "array([ 1,  7, 85,  2, 56,  2])"
      ]
     },
     "execution_count": 4,
     "metadata": {},
     "output_type": "execute_result"
    }
   ],
   "source": [
    "v"
   ]
  },
  {
   "cell_type": "code",
   "execution_count": 5,
   "id": "00dda3df",
   "metadata": {},
   "outputs": [
    {
     "data": {
      "text/plain": [
       "array([ 1,  2,  2,  7, 56, 85])"
      ]
     },
     "execution_count": 5,
     "metadata": {},
     "output_type": "execute_result"
    }
   ],
   "source": [
    "np.sort(v)"
   ]
  },
  {
   "cell_type": "code",
   "execution_count": 6,
   "id": "6aac4203",
   "metadata": {},
   "outputs": [
    {
     "data": {
      "text/plain": [
       "array([ 1,  7, 85,  2, 56,  2])"
      ]
     },
     "execution_count": 6,
     "metadata": {},
     "output_type": "execute_result"
    }
   ],
   "source": [
    "v"
   ]
  },
  {
   "cell_type": "code",
   "execution_count": 7,
   "id": "eced5fc2",
   "metadata": {},
   "outputs": [],
   "source": [
    "v.sort()"
   ]
  },
  {
   "cell_type": "code",
   "execution_count": 8,
   "id": "dd500d0c-add6-4e73-a56c-b8a9cc8fde4c",
   "metadata": {},
   "outputs": [
    {
     "data": {
      "text/plain": [
       "array([ 1,  2,  2,  7, 56, 85])"
      ]
     },
     "execution_count": 8,
     "metadata": {},
     "output_type": "execute_result"
    }
   ],
   "source": [
    "v"
   ]
  },
  {
   "cell_type": "code",
   "execution_count": 9,
   "id": "8ef484a4-5b6c-4e81-94c9-a3a667898d5c",
   "metadata": {},
   "outputs": [],
   "source": [
    "##iki boyutlu array sıralama"
   ]
  },
  {
   "cell_type": "code",
   "execution_count": 10,
   "id": "98fc09bd-b12b-4ac8-bc6b-08201a801a00",
   "metadata": {},
   "outputs": [],
   "source": [
    "m=np.random.normal(20,5,(3,3))"
   ]
  },
  {
   "cell_type": "code",
   "execution_count": 11,
   "id": "628795b2-5f6f-4866-b001-d493d3b2c3d9",
   "metadata": {},
   "outputs": [
    {
     "data": {
      "text/plain": [
       "array([[14.6827825 , 21.51566237, 14.65342563],\n",
       "       [19.16219932, 19.90326014, 22.14189652],\n",
       "       [10.6309259 , 25.46873159, 19.93140725]])"
      ]
     },
     "execution_count": 11,
     "metadata": {},
     "output_type": "execute_result"
    }
   ],
   "source": [
    "m"
   ]
  },
  {
   "cell_type": "code",
   "execution_count": 12,
   "id": "5df247b6-bd86-4dfc-8cb5-81b8cfafaa38",
   "metadata": {},
   "outputs": [],
   "source": [
    "m.sort()"
   ]
  },
  {
   "cell_type": "code",
   "execution_count": 13,
   "id": "b3a52e35-4c32-4a58-ade5-074f9b56c72f",
   "metadata": {},
   "outputs": [
    {
     "data": {
      "text/plain": [
       "array([[14.65342563, 14.6827825 , 21.51566237],\n",
       "       [19.16219932, 19.90326014, 22.14189652],\n",
       "       [10.6309259 , 19.93140725, 25.46873159]])"
      ]
     },
     "execution_count": 13,
     "metadata": {},
     "output_type": "execute_result"
    }
   ],
   "source": [
    "m"
   ]
  },
  {
   "cell_type": "code",
   "execution_count": 14,
   "id": "5477fb27-0fd4-4b2f-bde4-e68e63bcba7b",
   "metadata": {},
   "outputs": [
    {
     "data": {
      "text/plain": [
       "array([[14.65342563, 14.6827825 , 21.51566237],\n",
       "       [19.16219932, 19.90326014, 22.14189652],\n",
       "       [10.6309259 , 19.93140725, 25.46873159]])"
      ]
     },
     "execution_count": 14,
     "metadata": {},
     "output_type": "execute_result"
    }
   ],
   "source": [
    "np.sort(m,axis=1)"
   ]
  },
  {
   "cell_type": "code",
   "execution_count": 15,
   "id": "c8c6a012-4c38-4d09-b133-b38b75f22223",
   "metadata": {},
   "outputs": [
    {
     "data": {
      "text/plain": [
       "array([[10.6309259 , 14.6827825 , 21.51566237],\n",
       "       [14.65342563, 19.90326014, 22.14189652],\n",
       "       [19.16219932, 19.93140725, 25.46873159]])"
      ]
     },
     "execution_count": 15,
     "metadata": {},
     "output_type": "execute_result"
    }
   ],
   "source": [
    "np.sort(m,axis=0)"
   ]
  },
  {
   "cell_type": "code",
   "execution_count": 16,
   "id": "955e65b1-54ee-4fdc-a285-907e16ae5e7c",
   "metadata": {},
   "outputs": [
    {
     "data": {
      "text/plain": [
       "array([[14.65342563, 14.6827825 , 21.51566237],\n",
       "       [19.16219932, 19.90326014, 22.14189652],\n",
       "       [10.6309259 , 19.93140725, 25.46873159]])"
      ]
     },
     "execution_count": 16,
     "metadata": {},
     "output_type": "execute_result"
    }
   ],
   "source": [
    "m"
   ]
  },
  {
   "cell_type": "code",
   "execution_count": 17,
   "id": "0e8f5e48-01a9-4da5-8a3e-95f5579078fd",
   "metadata": {},
   "outputs": [
    {
     "data": {
      "text/plain": [
       "array([[1, 2, 3],\n",
       "       [4, 5, 6],\n",
       "       [7, 8, 9]])"
      ]
     },
     "execution_count": 17,
     "metadata": {},
     "output_type": "execute_result"
    }
   ],
   "source": [
    "m=np.arange(1,10).reshape((3,3))\n",
    "m"
   ]
  },
  {
   "cell_type": "code",
   "execution_count": 18,
   "id": "ade197d6-7b48-4aae-859a-c7e33b606d3c",
   "metadata": {},
   "outputs": [
    {
     "data": {
      "text/plain": [
       "array([[1, 2, 3],\n",
       "       [4, 5, 6],\n",
       "       [7, 8, 9]])"
      ]
     },
     "execution_count": 18,
     "metadata": {},
     "output_type": "execute_result"
    }
   ],
   "source": [
    "np.sort(m,axis=0)"
   ]
  },
  {
   "cell_type": "code",
   "execution_count": 19,
   "id": "b8fd3a23-0201-4a0f-ad03-4587ee690ec8",
   "metadata": {},
   "outputs": [
    {
     "data": {
      "text/plain": [
       "[array([[1, 2, 3],\n",
       "        [4, 5, 6]]),\n",
       " array([[7, 8, 9]]),\n",
       " array([], shape=(0, 3), dtype=int32)]"
      ]
     },
     "execution_count": 19,
     "metadata": {},
     "output_type": "execute_result"
    }
   ],
   "source": [
    "np.split(m,[2,3])"
   ]
  },
  {
   "cell_type": "code",
   "execution_count": 20,
   "id": "65245c6d-7ee8-4135-86fd-351ddfc84e61",
   "metadata": {},
   "outputs": [],
   "source": [
    "a=np.random.randint(1,10,(3,3))"
   ]
  },
  {
   "cell_type": "code",
   "execution_count": 21,
   "id": "3b9f5822-0f07-46a1-a058-1f29ba17b222",
   "metadata": {},
   "outputs": [
    {
     "data": {
      "text/plain": [
       "array([[5, 8, 5],\n",
       "       [7, 8, 9],\n",
       "       [8, 8, 9]])"
      ]
     },
     "execution_count": 21,
     "metadata": {},
     "output_type": "execute_result"
    }
   ],
   "source": [
    "a"
   ]
  },
  {
   "cell_type": "code",
   "execution_count": 22,
   "id": "c6c15409-4700-42b1-859e-3b0ad733e587",
   "metadata": {},
   "outputs": [],
   "source": [
    "b=np.concatenate([a,m])"
   ]
  },
  {
   "cell_type": "code",
   "execution_count": 23,
   "id": "d2c760ca-dbf2-43c5-8834-28bf7d1fbc6e",
   "metadata": {},
   "outputs": [
    {
     "data": {
      "text/plain": [
       "array([[5, 8, 5],\n",
       "       [7, 8, 9],\n",
       "       [8, 8, 9],\n",
       "       [1, 2, 3],\n",
       "       [4, 5, 6],\n",
       "       [7, 8, 9]])"
      ]
     },
     "execution_count": 23,
     "metadata": {},
     "output_type": "execute_result"
    }
   ],
   "source": [
    "b"
   ]
  },
  {
   "cell_type": "code",
   "execution_count": 24,
   "id": "0335eb79-2eec-4496-a04e-5704acc241f9",
   "metadata": {},
   "outputs": [],
   "source": [
    "a=np.hsplit(m,[2])"
   ]
  },
  {
   "cell_type": "code",
   "execution_count": 25,
   "id": "08af581f-8740-43d1-a491-5c00ea7319c7",
   "metadata": {},
   "outputs": [
    {
     "data": {
      "text/plain": [
       "[array([[1, 2],\n",
       "        [4, 5],\n",
       "        [7, 8]]),\n",
       " array([[3],\n",
       "        [6],\n",
       "        [9]])]"
      ]
     },
     "execution_count": 25,
     "metadata": {},
     "output_type": "execute_result"
    }
   ],
   "source": [
    "a"
   ]
  },
  {
   "cell_type": "code",
   "execution_count": 26,
   "id": "b6dd8e6f-6cf7-4fd9-9a6f-a7efcd32bd03",
   "metadata": {},
   "outputs": [
    {
     "data": {
      "text/plain": [
       "[array([[1, 2, 3],\n",
       "        [4, 5, 6],\n",
       "        [7, 8, 9]]),\n",
       " array([], shape=(0, 3), dtype=int32)]"
      ]
     },
     "execution_count": 26,
     "metadata": {},
     "output_type": "execute_result"
    }
   ],
   "source": [
    "a=np.vsplit(m,[3])\n",
    "a"
   ]
  },
  {
   "cell_type": "code",
   "execution_count": 27,
   "id": "52efdcde-e56a-40e1-b6fc-0ef73cb794ba",
   "metadata": {},
   "outputs": [],
   "source": [
    "a3=np.array([[1,2,3],[4,5,6],[7,8,9]])\n",
    "a4=np.array([[[1,2,3],[4,5,6],[9,8,7],[6,5,4]]])"
   ]
  },
  {
   "cell_type": "code",
   "execution_count": 28,
   "id": "1d1ff9b2-e04d-4958-8e0f-c666a60c9d3a",
   "metadata": {},
   "outputs": [
    {
     "data": {
      "text/plain": [
       "array([[1, 2, 3],\n",
       "       [4, 5, 6],\n",
       "       [7, 8, 9]])"
      ]
     },
     "execution_count": 28,
     "metadata": {},
     "output_type": "execute_result"
    }
   ],
   "source": [
    "a3"
   ]
  },
  {
   "cell_type": "code",
   "execution_count": 29,
   "id": "4d87bb8b-9cfc-4e74-a142-55be20d375d6",
   "metadata": {},
   "outputs": [
    {
     "data": {
      "text/plain": [
       "array([[[1, 2, 3],\n",
       "        [4, 5, 6],\n",
       "        [9, 8, 7],\n",
       "        [6, 5, 4]]])"
      ]
     },
     "execution_count": 29,
     "metadata": {},
     "output_type": "execute_result"
    }
   ],
   "source": [
    "a4"
   ]
  },
  {
   "cell_type": "code",
   "execution_count": 30,
   "id": "8057d61d-474c-40c6-bd77-3272d2b0fc8e",
   "metadata": {},
   "outputs": [
    {
     "data": {
      "text/plain": [
       "array([[5]])"
      ]
     },
     "execution_count": 30,
     "metadata": {},
     "output_type": "execute_result"
    }
   ],
   "source": [
    "a3[1:2,1:2]"
   ]
  },
  {
   "cell_type": "code",
   "execution_count": 31,
   "id": "1fe8e3c2-34f5-4944-a485-71bff478f0f0",
   "metadata": {},
   "outputs": [
    {
     "data": {
      "text/plain": [
       "array([[4],\n",
       "       [7]])"
      ]
     },
     "execution_count": 31,
     "metadata": {},
     "output_type": "execute_result"
    }
   ],
   "source": [
    "a3[1:,:1]"
   ]
  },
  {
   "cell_type": "code",
   "execution_count": 32,
   "id": "6c477274-223e-458e-8ab5-c6dc3c216d65",
   "metadata": {},
   "outputs": [
    {
     "data": {
      "text/plain": [
       "array([], shape=(0, 2, 3), dtype=int32)"
      ]
     },
     "execution_count": 32,
     "metadata": {},
     "output_type": "execute_result"
    }
   ],
   "source": [
    "a4[1:,:2]"
   ]
  },
  {
   "cell_type": "code",
   "execution_count": 33,
   "id": "6ba5868f-328b-4acf-a991-35f2323d6084",
   "metadata": {},
   "outputs": [
    {
     "ename": "NameError",
     "evalue": "name 'git' is not defined",
     "output_type": "error",
     "traceback": [
      "\u001b[1;31m---------------------------------------------------------------------------\u001b[0m",
      "\u001b[1;31mNameError\u001b[0m                                 Traceback (most recent call last)",
      "Cell \u001b[1;32mIn[33], line 1\u001b[0m\n\u001b[1;32m----> 1\u001b[0m git \u001b[38;5;241m-\u001b[39m\u001b[38;5;241m-\u001b[39mversion\n",
      "\u001b[1;31mNameError\u001b[0m: name 'git' is not defined"
     ]
    }
   ],
   "source": [
    "git --version\n"
   ]
  },
  {
   "cell_type": "code",
   "execution_count": null,
   "id": "99b46551-5d08-43cd-8ac3-adae44be2d89",
   "metadata": {},
   "outputs": [],
   "source": []
  }
 ],
 "metadata": {
  "kernelspec": {
   "display_name": "Python 3 (ipykernel)",
   "language": "python",
   "name": "python3"
  },
  "language_info": {
   "codemirror_mode": {
    "name": "ipython",
    "version": 3
   },
   "file_extension": ".py",
   "mimetype": "text/x-python",
   "name": "python",
   "nbconvert_exporter": "python",
   "pygments_lexer": "ipython3",
   "version": "3.11.7"
  }
 },
 "nbformat": 4,
 "nbformat_minor": 5
}
